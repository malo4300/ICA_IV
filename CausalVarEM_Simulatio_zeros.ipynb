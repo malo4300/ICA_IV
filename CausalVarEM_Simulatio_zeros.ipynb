{
 "cells": [
  {
   "cell_type": "markdown",
   "metadata": {},
   "source": [
    "## Test how hard one can infer with the VarEM Alogrithm\n",
    "\n"
   ]
  },
  {
   "cell_type": "code",
   "execution_count": 1,
   "metadata": {},
   "outputs": [],
   "source": [
    "from models.ICA_EM import *\n",
    "from models.dgp import *\n",
    "from models.metrics import *\n",
    "import importlib, sys\n",
    "importlib.reload(sys.modules['models.ICA_EM'])\n",
    "importlib.reload(sys.modules['models.dgp'])\n",
    "importlib.reload(sys.modules['models.metrics'])\n",
    "import seaborn as sns\n",
    "import pandas as pd\n",
    "import numpy as np\n",
    "from matplotlib import pyplot as plt"
   ]
  },
  {
   "cell_type": "markdown",
   "metadata": {},
   "source": [
    "## simulation to see the effect of enforcing also all zeros\n",
    "\n"
   ]
  },
  {
   "cell_type": "code",
   "execution_count": 2,
   "metadata": {},
   "outputs": [],
   "source": [
    "\n",
    "def norm_funtion(A, col):\n",
    "    # [0,0], [1,1] must be one\n",
    "    if A[0, col] != 0:\n",
    "        A_0 = A[:, col] / A[0, col]\n",
    "    else:\n",
    "        A_0 = A[:, col]\n",
    "    return A_0\n",
    "\n"
   ]
  },
  {
   "cell_type": "code",
   "execution_count": 3,
   "metadata": {},
   "outputs": [],
   "source": [
    "class CausalVarEM(VarEM):\n",
    "    def __init__(self, update_sigma=False, true_A=None, tol=1e-4, mode = \"each\", **kwargs):\n",
    "        if mode not in [\"init\", \"each\"]:\n",
    "            raise ValueError(\"mode must be either 'init' or 'each'\")\n",
    "        self.mode = mode\n",
    "        super().__init__(update_sigma=update_sigma, true_A=true_A, tol=tol, **kwargs)\n",
    "    \n",
    "    def update_A(self): # we can force causal structure \n",
    "        temp1 = np.zeros((self.I, self.J))\n",
    "        temp2 = np.zeros((self.J, self.J))\n",
    "\n",
    "        for i in range(self.n):\n",
    "            omega_i = self._omega_mat(i)\n",
    "            M_i = self._M_mat(omega_i)\n",
    "            x_outer = np.outer(self.X[i,:], self.X[i,:])\n",
    "            temp1 += x_outer @ M_i.T @ self.A @ omega_i\n",
    "            temp2 += omega_i @ (np.eye(self.J) - self.A.T @ M_i @ (np.eye(self.I) - x_outer @ M_i.T) @ self.A @ omega_i)\n",
    "            self._update_xi(i, M_i, omega_i, x_outer)\n",
    "        A_new = temp1 @ np.linalg.inv(temp2)\n",
    "        if self.update_sigma:\n",
    "            self._update_sigma(A_new)\n",
    "\n",
    "\n",
    "        # calculate the difference between the old and new A\n",
    "        diff = np.linalg.norm(self.A - A_new, ord='fro')\n",
    "        self.A = A_new\n",
    "        if self.mode == \"each\":\n",
    "            self._enforce_causal_structure()\n",
    "        return diff\n",
    "    \n",
    "    def _initilize_A(self):\n",
    "        super()._initilize_A()\n",
    "        self._enforce_causal_structure()\n",
    "        \n",
    "    def _enforce_causal_structure(self):\n",
    "        self.A[0,1] = 0\n",
    "        # set ones\n",
    "        self.A[0,0] = 1\n",
    "        self.A[1,1] = 1\n",
    "        # set controls to 1\n",
    "        for j in range(2, self.J-1):\n",
    "            self.A[j,j+1] = 1\n",
    "\n",
    "\n",
    "class CausalVarEM_adj(VarEM):\n",
    "    def __init__(self, update_sigma=False, true_A=None, tol=1e-4, mode = \"each\", **kwargs):\n",
    "        if mode not in [\"init\", \"each\"]:\n",
    "            raise ValueError(\"mode must be either 'init' or 'each'\")\n",
    "        self.mode = mode\n",
    "        super().__init__(update_sigma=update_sigma, true_A=true_A, tol=tol, **kwargs)\n",
    "    \n",
    "    def update_A(self): # we can force causal structure \n",
    "        temp1 = np.zeros((self.I, self.J))\n",
    "        temp2 = np.zeros((self.J, self.J))\n",
    "\n",
    "        for i in range(self.n):\n",
    "            omega_i = self._omega_mat(i)\n",
    "            M_i = self._M_mat(omega_i)\n",
    "            x_outer = np.outer(self.X[i,:], self.X[i,:])\n",
    "            temp1 += x_outer @ M_i.T @ self.A @ omega_i\n",
    "            temp2 += omega_i @ (np.eye(self.J) - self.A.T @ M_i @ (np.eye(self.I) - x_outer @ M_i.T) @ self.A @ omega_i)\n",
    "            self._update_xi(i, M_i, omega_i, x_outer)\n",
    "        A_new = temp1 @ np.linalg.inv(temp2)\n",
    "        if self.update_sigma:\n",
    "            self._update_sigma(A_new)\n",
    "\n",
    "\n",
    "        # calculate the difference between the old and new A\n",
    "        diff = np.linalg.norm(self.A - A_new, ord='fro')\n",
    "        self.A = A_new\n",
    "        if self.mode == \"each\":\n",
    "            self._enforce_causal_structure()\n",
    "        return diff\n",
    "    \n",
    "    def _initilize_A(self):\n",
    "        super()._initilize_A()\n",
    "        self._enforce_causal_structure()\n",
    "        \n",
    "    def _enforce_causal_structure(self):\n",
    "        self.A[0,1] = 0\n",
    "        # set ones\n",
    "        self.A[0,0] = 1\n",
    "        self.A[1,1] = 1\n",
    "        # set controls to 1\n",
    "        for j in range(2, self.J-1):\n",
    "            self.A[j,j+1] = 1\n",
    "        for j in range(2, self.I): # controls should not be children of treatment\n",
    "            self.A[j,0] = 0\n",
    "            self.A[j,1] = 0\n",
    "            self.A[j,2] = 0\n",
    "            \n",
    "\n",
    "\n",
    "\n"
   ]
  },
  {
   "cell_type": "code",
   "execution_count": 4,
   "metadata": {},
   "outputs": [
    {
     "name": "stderr",
     "output_type": "stream",
     "text": [
      "100%|██████████| 100/100 [2:25:45<00:00, 87.46s/it] \n"
     ]
    }
   ],
   "source": [
    "n = 10000\n",
    "J = 6\n",
    "I = 5\n",
    "f_score_org = []\n",
    "f_score_adj = []\n",
    "mean_squared_error_org = []\n",
    "mean_squared_error_adj = []\n",
    "ll_score_org = []\n",
    "ll_score_adj = []\n",
    "treatment_true = []\n",
    "treatment_org = []\n",
    "treatment_adj = []\n",
    "data = dgp(prior={\"loc\" : 0, \"scale\" : 1/np.sqrt(2)}, noise_dict=  {\"loc\" : 0, \"scale\" : 0})\n",
    "for i in tqdm.tqdm(range(100)):\n",
    "    data.generate_data(n=n, J=J, I=I, random_state=i)\n",
    "    treatment_true.append(data.treatment_effect)\n",
    "    CausalVarEM_est = CausalVarEM(update_sigma=False,   true_A= data.mixing_matrix_observed, tol=1e-4, max_iter=200, random_seed=i, mode = \"each\")  \n",
    "    \n",
    "    CausalVarEM_est.fit(data.data_observed, J = J,\n",
    "                      noise_params= {\"mean\" : 0, \"std\" : 1}, progress_bar= False)\n",
    "    treatment_org.append(norm_funtion(CausalVarEM_est.A, 0)[1])\n",
    "    best_perm, score = f_score(data.mixing_matrix_observed, CausalVarEM_est.A)\n",
    "    f_score_org.append(score)\n",
    "    singals_estimation_VAR = CausalVarEM_est.Signals[:,best_perm]\n",
    "    mean_squared_error_org.append(mean_squared_error(data.signals, singals_estimation_VAR))\n",
    "    ll_score_org.append(likelihood_score(data.signals, singals_estimation_VAR, normalize=True))\n",
    "\n",
    "    CausalVarEM_est = CausalVarEM_adj(update_sigma=False,   true_A= data.mixing_matrix_observed, tol=1e-4, max_iter=200, random_seed=i, mode = \"each\")\n",
    "    CausalVarEM_est.fit(data.data_observed, J = J,\n",
    "                      noise_params= {\"mean\" : 0, \"std\" : 1}, progress_bar= False)\n",
    "    treatment_adj.append(norm_funtion(CausalVarEM_est.A, 0)[1])\n",
    "    best_perm, score = f_score(data.mixing_matrix_observed, CausalVarEM_est.A)\n",
    "    f_score_adj.append(score)\n",
    "    singals_estimation_VAR = CausalVarEM_est.Signals[:,best_perm]\n",
    "    mean_squared_error_adj.append(mean_squared_error(data.signals, singals_estimation_VAR))\n",
    "    ll_score_adj.append(likelihood_score(data.signals, singals_estimation_VAR, normalize=True))\n",
    "\n",
    "df = pd.DataFrame({\"f_score_org\" : f_score_org, \n",
    "                   \"f_score_adj\" : f_score_adj, \n",
    "                   \"mean_squared_error_org\" : mean_squared_error_org, \n",
    "                   \"mean_squared_error_adj\" : mean_squared_error_adj,\n",
    "                     \"ll_score_org\" : ll_score_org, \n",
    "                     \"ll_score_adj\" : ll_score_adj,\n",
    "                     \"treatment_true\" :treatment_true,\n",
    "                     \"treatment_org\" : treatment_org,\n",
    "                     \"treatment_adj\" : treatment_adj})\n"
   ]
  },
  {
   "cell_type": "code",
   "execution_count": 5,
   "metadata": {},
   "outputs": [],
   "source": [
    "#df.to_csv(\"results/CausalVarEM_zero_enforce.csv\")\n"
   ]
  },
  {
   "cell_type": "markdown",
   "metadata": {},
   "source": [
    "## Results"
   ]
  },
  {
   "cell_type": "code",
   "execution_count": 12,
   "metadata": {},
   "outputs": [
    {
     "name": "stdout",
     "output_type": "stream",
     "text": [
      "f_score_org                   0.164914\n",
      "f_score_adj                   0.080415\n",
      "mean_squared_error_org        1.086105\n",
      "mean_squared_error_adj        0.879326\n",
      "ll_score_org             -26207.739949\n",
      "ll_score_adj             -26234.098359\n",
      "treatment_true               -0.098014\n",
      "treatment_org                -0.165718\n",
      "treatment_adj                -0.083395\n",
      "dtype: float64\n",
      "f_score_org                  0.111377\n",
      "f_score_adj                  0.126394\n",
      "mean_squared_error_org       0.163426\n",
      "mean_squared_error_adj       0.135079\n",
      "ll_score_org              1156.049003\n",
      "ll_score_adj              1425.914578\n",
      "treatment_true               1.720049\n",
      "treatment_org                1.822541\n",
      "treatment_adj                1.688054\n",
      "dtype: float64\n"
     ]
    }
   ],
   "source": [
    "df = pd.read_csv(\"results/CausalVarEM_zero_enforce.csv\", index_col=0)\n",
    "print(df.mean())\n",
    "print(df.std())\n"
   ]
  },
  {
   "cell_type": "code",
   "execution_count": 16,
   "metadata": {},
   "outputs": [
    {
     "data": {
      "text/plain": [
       "Text(0.5, 0.98, 'Ones vs ones and zeros, true A init')"
      ]
     },
     "execution_count": 16,
     "metadata": {},
     "output_type": "execute_result"
    },
    {
     "data": {
      "image/png": "[encoded data removed]",
      "text/plain": [
       "<Figure size 1200x500 with 2 Axes>"
      ]
     },
     "metadata": {},
     "output_type": "display_data"
    }
   ],
   "source": [
    "fig, ax = plt.subplots(1,2, figsize = (12,5))\n",
    "sns.scatterplot(x = \"treatment_true\", y = \"treatment_org\", data = df,ax = ax[0])\n",
    "\n",
    "ax[0].set_ylabel(\"estimated treatment\")\n",
    "ax[0].set_xlabel(\"true treatment\")\n",
    "\n",
    "\n",
    "\n",
    "\n",
    "sns.scatterplot(x = \"treatment_true\", y = \"treatment_adj\", data = df,ax = ax[1])\n",
    "\n",
    "\n",
    "ax[1].set_ylabel(\"estimated treatment\")\n",
    "\n",
    "ax[1].set_xlabel(\"true treatment\")\n",
    "fig.suptitle(\"Ones vs ones and zeros, true A init\")\n"
   ]
  },
  {
   "cell_type": "code",
   "execution_count": 15,
   "metadata": {},
   "outputs": [
    {
     "data": {
      "text/plain": [
       "(np.float64(0.5721650615462677), np.float64(0.20903318312863178))"
      ]
     },
     "execution_count": 15,
     "metadata": {},
     "output_type": "execute_result"
    }
   ],
   "source": [
    "from sklearn.metrics import mean_squared_error  as mse\n",
    "\n",
    "mse(df.treatment_true, df.treatment_org), mse(df.treatment_true, df.treatment_adj)\n"
   ]
  },
  {
   "cell_type": "code",
   "execution_count": null,
   "metadata": {},
   "outputs": [],
   "source": []
  }
 ],
 "metadata": {
  "kernelspec": {
   "display_name": "Python 3",
   "language": "python",
   "name": "python3"
  },
  "language_info": {
   "codemirror_mode": {
    "name": "ipython",
    "version": 3
   },
   "file_extension": ".py",
   "mimetype": "text/x-python",
   "name": "python",
   "nbconvert_exporter": "python",
   "pygments_lexer": "ipython3",
   "version": "3.12.7"
  }
 },
 "nbformat": 4,
 "nbformat_minor": 2
}
