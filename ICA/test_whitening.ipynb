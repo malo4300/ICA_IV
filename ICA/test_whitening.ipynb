{
 "cells": [
  {
   "cell_type": "code",
   "execution_count": 2,
   "metadata": {},
   "outputs": [],
   "source": [
    "from models.ICA_EM import *\n",
    "from models.dgp import *\n",
    "from models.metrics import *"
   ]
  },
  {
   "cell_type": "code",
   "execution_count": 3,
   "metadata": {},
   "outputs": [],
   "source": [
    "n = 10000\n",
    "J = 6\n",
    "I = J -1"
   ]
  },
  {
   "cell_type": "code",
   "execution_count": 51,
   "metadata": {},
   "outputs": [],
   "source": [
    "seed = 20"
   ]
  },
  {
   "cell_type": "code",
   "execution_count": 52,
   "metadata": {},
   "outputs": [],
   "source": [
    "data = dgp(noise_dict= {\"loc\" : 0, \"scale\" : 0}, prior= {\"loc\" : 0, \"scale\" : 1/np.sqrt(2)})   \n",
    "data.generate_data(n, I, J, random_state=seed)"
   ]
  },
  {
   "cell_type": "code",
   "execution_count": 53,
   "metadata": {},
   "outputs": [],
   "source": [
    "def white_date(data):\n",
    "    cov = np.cov(data.T)\n",
    "    sqrt_cov = np.linalg.cholesky(cov)\n",
    "    white_data = np.linalg.inv(sqrt_cov) @ data.T\n",
    "    return {\"white_data\" : white_data.T, \"sqrt_cov\" : sqrt_cov}\n"
   ]
  },
  {
   "cell_type": "code",
   "execution_count": 54,
   "metadata": {},
   "outputs": [
    {
     "name": "stdout",
     "output_type": "stream",
     "text": [
      "[[ 1. -0.  0. -0.  0.]\n",
      " [-0.  1. -0.  0. -0.]\n",
      " [ 0. -0.  1.  0. -0.]\n",
      " [-0.  0.  0.  1.  0.]\n",
      " [ 0. -0. -0.  0.  1.]]\n"
     ]
    }
   ],
   "source": [
    "data_out = white_date(data.data_observed)\n",
    "print(np.round(np.cov(data_out[\"white_data\"].T),2))"
   ]
  },
  {
   "cell_type": "code",
   "execution_count": 55,
   "metadata": {},
   "outputs": [
    {
     "name": "stdout",
     "output_type": "stream",
     "text": [
      "Initializing A randomly\n"
     ]
    },
    {
     "name": "stderr",
     "output_type": "stream",
     "text": [
      "Diff: 0.0534: 100%|██████████| 10/10 [00:02<00:00,  4.34it/s]\n"
     ]
    },
    {
     "name": "stdout",
     "output_type": "stream",
     "text": [
      "Estimating the signals\n"
     ]
    },
    {
     "name": "stderr",
     "output_type": "stream",
     "text": [
      "100%|██████████| 10000/10000 [00:00<00:00, 73724.49it/s]\n"
     ]
    }
   ],
   "source": [
    "data_white = data_out[\"white_data\"] \n",
    "est = VarEM(true_A= None, max_iter = 10, random_seed = seed)\n",
    "est.fit(data_white, J = J)"
   ]
  },
  {
   "cell_type": "code",
   "execution_count": 56,
   "metadata": {},
   "outputs": [
    {
     "name": "stdout",
     "output_type": "stream",
     "text": [
      "[[-0.61 -0.42  0.02  0.08  0.03 -0.01]\n",
      " [-1.04 -1.17  0.12  0.2   0.37 -0.38]\n",
      " [ 0.9   0.72 -0.61  0.36 -0.09 -0.14]\n",
      " [-0.71 -0.98 -0.46  0.21  0.72  0.57]\n",
      " [-2.68 -1.82  0.99 -0.32  1.27  2.28]]\n"
     ]
    }
   ],
   "source": [
    "# transform the estimated mixing matrix to the original space\n",
    "print(np.round(data_out[\"sqrt_cov\"] @ est.A,2))"
   ]
  },
  {
   "cell_type": "code",
   "execution_count": 57,
   "metadata": {},
   "outputs": [
    {
     "name": "stdout",
     "output_type": "stream",
     "text": [
      "[[-0.    1.    0.    0.    0.   -0.  ]\n",
      " [ 0.    2.1   1.    0.    0.    0.  ]\n",
      " [ 0.   -1.47 -0.    1.   -0.    0.  ]\n",
      " [ 1.62  1.66  0.79 -0.    1.    0.  ]\n",
      " [ 3.72  4.5  -0.1  -2.6   1.63  1.  ]]\n"
     ]
    }
   ],
   "source": [
    "print(np.round(data.mixing_matrix_observed,2))"
   ]
  },
  {
   "cell_type": "code",
   "execution_count": 58,
   "metadata": {},
   "outputs": [
    {
     "data": {
      "text/plain": [
       "((5, 2, 3, 0, 4, 1), np.float64(0.8800412517278833))"
      ]
     },
     "execution_count": 58,
     "metadata": {},
     "output_type": "execute_result"
    }
   ],
   "source": [
    "f_score(data.mixing_matrix_observed, data_out[\"sqrt_cov\"] @ est.A)"
   ]
  },
  {
   "cell_type": "code",
   "execution_count": 59,
   "metadata": {},
   "outputs": [
    {
     "name": "stdout",
     "output_type": "stream",
     "text": [
      "Initializing A randomly\n"
     ]
    },
    {
     "name": "stderr",
     "output_type": "stream",
     "text": [
      "Diff: 0.0858: 100%|██████████| 10/10 [00:02<00:00,  4.38it/s]\n"
     ]
    },
    {
     "name": "stdout",
     "output_type": "stream",
     "text": [
      "Estimating the signals\n"
     ]
    },
    {
     "name": "stderr",
     "output_type": "stream",
     "text": [
      "100%|██████████| 10000/10000 [00:00<00:00, 89996.87it/s]\n"
     ]
    }
   ],
   "source": [
    "est = VarEM(true_A= None, max_iter = 10, random_seed=seed)\n",
    "est.fit(data.data_observed, J = J)"
   ]
  },
  {
   "cell_type": "code",
   "execution_count": 60,
   "metadata": {},
   "outputs": [
    {
     "data": {
      "text/plain": [
       "((1, 4, 0, 5, 3, 2), np.float64(0.3668554990048595))"
      ]
     },
     "execution_count": 60,
     "metadata": {},
     "output_type": "execute_result"
    }
   ],
   "source": [
    "f_score(data.mixing_matrix_observed, est.A)"
   ]
  },
  {
   "cell_type": "code",
   "execution_count": 63,
   "metadata": {},
   "outputs": [
    {
     "name": "stdout",
     "output_type": "stream",
     "text": [
      "[[-0.02 -0.21  0.42  0.21  0.3  -0.22]\n",
      " [ 0.42 -0.67  0.66  0.54  0.79 -0.65]\n",
      " [ 0.5   0.15 -1.25 -0.29 -0.37  0.3 ]\n",
      " [ 0.34  0.76  0.24  1.5   0.63 -0.42]\n",
      " [-1.46  2.41  3.11  3.21  1.12 -0.68]]\n"
     ]
    }
   ],
   "source": [
    "print(np.round(est.A,2))"
   ]
  },
  {
   "cell_type": "code",
   "execution_count": 75,
   "metadata": {},
   "outputs": [
    {
     "name": "stderr",
     "output_type": "stream",
     "text": [
      "100%|██████████| 100/100 [07:52<00:00,  4.72s/it]\n"
     ]
    }
   ],
   "source": [
    "# test performance of whitening\n",
    "f_score_white = []\n",
    "f_score_no_white = []\n",
    "data = dgp(noise_dict= {\"loc\" : 0, \"scale\" : 0}, prior= {\"loc\" : 0, \"scale\" : 2})\n",
    "\n",
    "for i in tqdm.tqdm(range(100)):\n",
    "    data.generate_data(n, I, J, random_state=i)\n",
    "    data_out = white_date(data.data_observed)\n",
    "    data_white = data_out[\"white_data\"]\n",
    "    est = VarEM(true_A= None, max_iter = 10, random_seed = i)\n",
    "    est.fit(data_white, J = J, progress_bar=False)\n",
    "    f_score_white.append(f_score(data.mixing_matrix_observed, data_out[\"sqrt_cov\"] @ est.A))\n",
    "    est = VarEM(true_A= None, max_iter = 10, random_seed=i)\n",
    "    est.fit(data.data_observed, J = J, progress_bar=False)\n",
    "    f_score_no_white.append(f_score(data.mixing_matrix_observed, est.A))\n"
   ]
  },
  {
   "cell_type": "code",
   "execution_count": 76,
   "metadata": {},
   "outputs": [
    {
     "name": "stdout",
     "output_type": "stream",
     "text": [
      "0.7600515074426041\n",
      "0.829456924350306\n"
     ]
    }
   ],
   "source": [
    "# second entry in each tuple is the f_score\n",
    "f_score_white_values = [x[1] for x in f_score_white]\n",
    "f_score_no_white_values = [x[1] for x in f_score_no_white]\n",
    "\n",
    "print(np.mean(f_score_white_values))\n",
    "print(np.mean(f_score_no_white_values))"
   ]
  }
 ],
 "metadata": {
  "kernelspec": {
   "display_name": "sem_pj",
   "language": "python",
   "name": "python3"
  },
  "language_info": {
   "codemirror_mode": {
    "name": "ipython",
    "version": 3
   },
   "file_extension": ".py",
   "mimetype": "text/x-python",
   "name": "python",
   "nbconvert_exporter": "python",
   "pygments_lexer": "ipython3",
   "version": "3.12.7"
  }
 },
 "nbformat": 4,
 "nbformat_minor": 2
}
