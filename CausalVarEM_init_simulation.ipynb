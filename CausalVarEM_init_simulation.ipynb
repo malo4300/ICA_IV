{
 "cells": [
  {
   "cell_type": "code",
   "execution_count": 31,
   "metadata": {},
   "outputs": [],
   "source": [
    "from models.ICA_EM import *\n",
    "from models.dgp import *\n",
    "from models.metrics import *\n",
    "import importlib, sys\n",
    "importlib.reload(sys.modules['models.ICA_EM'])\n",
    "importlib.reload(sys.modules['models.dgp'])\n",
    "importlib.reload(sys.modules['models.metrics'])\n",
    "import seaborn as sns\n",
    "import pandas as pd\n",
    "import numpy as np\n",
    "from matplotlib import pyplot as plt"
   ]
  },
  {
   "cell_type": "code",
   "execution_count": 32,
   "metadata": {},
   "outputs": [],
   "source": [
    "n = 10000\n",
    "J = 6\n",
    "I = 5\n",
    "treatmet_true = []\n",
    "treatment_random = []\n",
    "treatment_trueA = []\n",
    "f_score_trueA = []\n",
    "f_score_randomA = []\n",
    "mean_squared_error_trueA = []\n",
    "mean_squared_error_randomA = []\n",
    "ll_score_trueA = []\n",
    "ll_score_randomA = []"
   ]
  },
  {
   "cell_type": "code",
   "execution_count": 33,
   "metadata": {},
   "outputs": [],
   "source": [
    "def norm_funtion(A):\n",
    "    # [0,0], [1,1] must be one\n",
    "    if A[0,0] == 0:\n",
    "        return A[:, 0]\n",
    "    A_0 = A[:, 0]/A[0,0]\n",
    "    \n",
    "    return A_0"
   ]
  },
  {
   "cell_type": "code",
   "execution_count": 34,
   "metadata": {},
   "outputs": [
    {
     "name": "stderr",
     "output_type": "stream",
     "text": [
      " 31%|███       | 31/100 [1:10:10<5:45:17, 300.25s/it]"
     ]
    }
   ],
   "source": [
    "data = dgp(prior={\"loc\" : 0, \"scale\" : 1/np.sqrt(2)}, noise_dict=  {\"loc\" : 0, \"scale\" : 1})\n",
    "for i in tqdm.tqdm(range(100)):\n",
    "    data.generate_data(n=n, J=J, I=I, random_state=i)\n",
    "    treatmet_true.append(data.treatment_effect)\n",
    "    CausalVarEM_trueA = CausalVarEM(update_sigma=False,   true_A= data.mixing_matrix_observed, tol=1e-4, max_iter=200, random_seed=1, mode = \"each\")\n",
    "    CausalVarEM_trueA.fit(data.data_observed, J = J,\n",
    "                      noise_params= {\"mean\" : 0, \"std\" : 1}, progress_bar= False)\n",
    "    best_perm, score = f_score(data.mixing_matrix_observed, CausalVarEM_trueA.A)\n",
    "    f_score_trueA.append(score)\n",
    "    singals_estimation_VAR = CausalVarEM_trueA.Signals[:,best_perm]\n",
    "    mean_squared_error_trueA.append(mean_squared_error(data.signals, singals_estimation_VAR))\n",
    "    ll_score_trueA.append(likelihood_score(data.signals, singals_estimation_VAR, normalize=True))\n",
    "    treatment_trueA.append(norm_funtion(CausalVarEM_trueA.A[:,best_perm])[1])\n",
    "    CausalVarEM_randomA = CausalVarEM(update_sigma=False,   true_A= None, tol=1e-4, max_iter=200, random_seed=1, mode = \"each\")\n",
    "    CausalVarEM_randomA.fit(data.data_observed, J = J,\n",
    "                      noise_params= {\"mean\" : 0, \"std\" : 1}, progress_bar= False)\n",
    "    best_perm, score = f_score(data.mixing_matrix_observed, CausalVarEM_randomA.A)\n",
    "    f_score_randomA.append(score)\n",
    "    singals_estimation_VAR = CausalVarEM_randomA.Signals[:,best_perm]\n",
    "    mean_squared_error_randomA.append(mean_squared_error(data.signals, singals_estimation_VAR))\n",
    "    ll_score_randomA.append(likelihood_score(data.signals, singals_estimation_VAR, normalize=True))\n",
    "    treatment_random.append(norm_funtion(CausalVarEM_randomA.A[:,best_perm])[1])\n",
    "\n",
    "\n"
   ]
  },
  {
   "cell_type": "code",
   "execution_count": null,
   "metadata": {},
   "outputs": [],
   "source": [
    "df = pd.DataFrame({\"f_score_trueA\" : f_score_trueA, \n",
    "                   \"f_score_randomA\" : f_score_randomA, \n",
    "                   \"mean_squared_error_trueA\" : mean_squared_error_trueA, \n",
    "                   \"mean_squared_error_randomA\" : mean_squared_error_randomA,\n",
    "                     \"ll_score_trueA\" : ll_score_trueA, \n",
    "                     \"ll_score_randomA\" : ll_score_randomA,\n",
    "                     \"treatment_trueA\" : treatment_trueA,\n",
    "                     \"treatment_randomA\" : treatment_random,\n",
    "                     \"treatment_true\" : treatmet_true})"
   ]
  },
  {
   "cell_type": "code",
   "execution_count": null,
   "metadata": {},
   "outputs": [],
   "source": [
    "df.to_csv(\"results/CausalVarEM_init_schema.csv\")"
   ]
  },
  {
   "cell_type": "code",
   "execution_count": null,
   "metadata": {},
   "outputs": [
    {
     "name": "stdout",
     "output_type": "stream",
     "text": [
      "f_score_trueA                     0.254213\n",
      "f_score_randomA                   0.629866\n",
      "mean_squared_error_trueA          2.234742\n",
      "mean_squared_error_randomA        2.839535\n",
      "ll_score_trueA               -16868.131222\n",
      "ll_score_randomA             -16410.333497\n",
      "dtype: float64\n"
     ]
    }
   ],
   "source": [
    "# df = pd.read_csv(\"results/CausalVarEM_init_schema.csv\")\n",
    "print(df.mean())"
   ]
  }
 ],
 "metadata": {
  "kernelspec": {
   "display_name": "Python 3",
   "language": "python",
   "name": "python3"
  },
  "language_info": {
   "codemirror_mode": {
    "name": "ipython",
    "version": 3
   },
   "file_extension": ".py",
   "mimetype": "text/x-python",
   "name": "python",
   "nbconvert_exporter": "python",
   "pygments_lexer": "ipython3",
   "version": "3.12.7"
  }
 },
 "nbformat": 4,
 "nbformat_minor": 2
}
