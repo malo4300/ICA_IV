{
 "cells": [
  {
   "cell_type": "code",
   "execution_count": 2,
   "metadata": {},
   "outputs": [],
   "source": [
    "from models.ICA_EM import *\n",
    "from models.dgp import *\n",
    "from models.metrics import *\n",
    "import importlib, sys\n",
    "importlib.reload(sys.modules['models.ICA_EM'])\n",
    "importlib.reload(sys.modules['models.dgp'])\n",
    "importlib.reload(sys.modules['models.metrics'])\n",
    "import seaborn as sns\n",
    "import pandas as pd\n",
    "import numpy as np\n",
    "from matplotlib import pyplot as plt"
   ]
  },
  {
   "cell_type": "code",
   "execution_count": 3,
   "metadata": {},
   "outputs": [],
   "source": [
    "n = 10000\n",
    "J = 6\n",
    "I = 5\n",
    "f_score_trueA = []\n",
    "f_score_randomA = []\n",
    "mean_squared_error_trueA = []\n",
    "mean_squared_error_randomA = []\n",
    "ll_score_trueA = []\n",
    "ll_score_randomA = []"
   ]
  },
  {
   "cell_type": "code",
   "execution_count": 4,
   "metadata": {},
   "outputs": [
    {
     "name": "stderr",
     "output_type": "stream",
     "text": [
      "100%|██████████| 100/100 [2:32:28<00:00, 91.48s/it] \n"
     ]
    }
   ],
   "source": [
    "data = dgp(prior={\"loc\" : 0, \"scale\" : 1}, noise_dict=  {\"loc\" : 0, \"scale\" : 1})\n",
    "for i in tqdm.tqdm(range(100)):\n",
    "    data.generate_data(n=n, J=J, I=I, random_state=i)\n",
    "    CausalVarEM_trueA = CausalVarEM(update_sigma=False,   true_A= data.mixing_matrix_observed, tol=1e-4, max_iter=200, random_seed=1, mode = \"each\")\n",
    "    CausalVarEM_trueA.fit(data.data_observed, J = J,\n",
    "                      noise_params= {\"mean\" : 0, \"std\" : 1}, progress_bar= False)\n",
    "    best_perm, score = f_score(data.mixing_matrix_observed, CausalVarEM_trueA.A)\n",
    "    f_score_trueA.append(score)\n",
    "    singals_estimation_VAR = CausalVarEM_trueA.Signals[:,best_perm]\n",
    "    mean_squared_error_trueA.append(mean_squared_error(data.signals, singals_estimation_VAR))\n",
    "    ll_score_trueA.append(likelihood_score(data.signals, singals_estimation_VAR, normalize=True))\n",
    "\n",
    "    CausalVarEM_randomA = CausalVarEM(update_sigma=False,   true_A= None, tol=1e-4, max_iter=200, random_seed=1, mode = \"each\")\n",
    "    CausalVarEM_randomA.fit(data.data_observed, J = J,\n",
    "                      noise_params= {\"mean\" : 0, \"std\" : 1}, progress_bar= False)\n",
    "    best_perm, score = f_score(data.mixing_matrix_observed, CausalVarEM_randomA.A)\n",
    "    f_score_randomA.append(score)\n",
    "    singals_estimation_VAR = CausalVarEM_randomA.Signals[:,best_perm]\n",
    "    mean_squared_error_randomA.append(mean_squared_error(data.signals, singals_estimation_VAR))\n",
    "    ll_score_randomA.append(likelihood_score(data.signals, singals_estimation_VAR, normalize=True))\n",
    "\n",
    "df = pd.DataFrame({\"f_score_trueA\" : f_score_trueA, \n",
    "                   \"f_score_randomA\" : f_score_randomA, \n",
    "                   \"mean_squared_error_trueA\" : mean_squared_error_trueA, \n",
    "                   \"mean_squared_error_randomA\" : mean_squared_error_randomA,\n",
    "                     \"ll_score_trueA\" : ll_score_trueA, \n",
    "                     \"ll_score_randomA\" : ll_score_randomA})\n"
   ]
  },
  {
   "cell_type": "code",
   "execution_count": 6,
   "metadata": {},
   "outputs": [],
   "source": [
    "df.to_csv(\"results/CausalVarEM_init_schema.csv\")"
   ]
  },
  {
   "cell_type": "code",
   "execution_count": 7,
   "metadata": {},
   "outputs": [
    {
     "name": "stdout",
     "output_type": "stream",
     "text": [
      "f_score_trueA                     0.254213\n",
      "f_score_randomA                   0.629866\n",
      "mean_squared_error_trueA          2.234742\n",
      "mean_squared_error_randomA        2.839535\n",
      "ll_score_trueA               -16868.131222\n",
      "ll_score_randomA             -16410.333497\n",
      "dtype: float64\n"
     ]
    }
   ],
   "source": [
    "# df = pd.read_csv(\"results/CausalVarEM_init_schema.csv\")\n",
    "print(df.mean())"
   ]
  }
 ],
 "metadata": {
  "kernelspec": {
   "display_name": "Python 3",
   "language": "python",
   "name": "python3"
  },
  "language_info": {
   "codemirror_mode": {
    "name": "ipython",
    "version": 3
   },
   "file_extension": ".py",
   "mimetype": "text/x-python",
   "name": "python",
   "nbconvert_exporter": "python",
   "pygments_lexer": "ipython3",
   "version": "3.12.7"
  }
 },
 "nbformat": 4,
 "nbformat_minor": 2
}
