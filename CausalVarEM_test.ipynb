{
 "cells": [
  {
   "cell_type": "markdown",
   "metadata": {},
   "source": [
    "## Test how hard one can infere with the VarEM Alogrithm\n"
   ]
  },
  {
   "cell_type": "code",
   "execution_count": 37,
   "metadata": {},
   "outputs": [],
   "source": [
    "from models.ICA_EM import *\n",
    "from models.dgp import *\n",
    "from models.metrics import *\n",
    "import importlib, sys\n",
    "importlib.reload(sys.modules['models.ICA_EM'])\n",
    "importlib.reload(sys.modules['models.dgp'])\n",
    "import seaborn as sns\n",
    "import pandas as pd\n",
    "import numpy as np\n",
    "from matplotlib import pyplot as plt"
   ]
  },
  {
   "cell_type": "code",
   "execution_count": 38,
   "metadata": {},
   "outputs": [],
   "source": [
    "class CausalVarEM(VarEM):\n",
    "    def __init__(self, update_sigma=False, true_A=None, tol=1e-4, mode = \"init\", **kwargs):\n",
    "        if mode not in [\"init\", \"each\"]:\n",
    "            raise ValueError(\"mode must be either 'init' or 'each'\")\n",
    "        self.mode = mode\n",
    "        super().__init__(update_sigma=update_sigma, true_A=true_A, tol=tol, **kwargs)\n",
    "    \n",
    "    def update_A(self): # we can force causal structure \n",
    "        temp1 = np.zeros((self.I, self.J))\n",
    "        temp2 = np.zeros((self.J, self.J))\n",
    "\n",
    "        for i in range(self.n):\n",
    "            omega_i = self._omega_mat(i)\n",
    "            M_i = self._M_mat(omega_i)\n",
    "            x_outer = np.outer(self.X[i,:], self.X[i,:])\n",
    "            temp1 += x_outer @ M_i.T @ self.A @ omega_i\n",
    "            temp2 += omega_i @ (np.eye(self.J) - self.A.T @ M_i @ (np.eye(self.I) - x_outer @ M_i.T) @ self.A @ omega_i)\n",
    "            self._update_xi(i, M_i, omega_i, x_outer)\n",
    "        A_new = temp1 @ np.linalg.inv(temp2)\n",
    "        if self.update_sigma:\n",
    "            self._update_sigma(A_new)\n",
    "\n",
    "\n",
    "        # calculate the difference between the old and new A\n",
    "        diff = np.linalg.norm(self.A - A_new, ord='fro')\n",
    "        self.A = A_new\n",
    "        if self.mode == \"each\":\n",
    "            self._enforce_causal_structure()\n",
    "        return diff\n",
    "    \n",
    "    def _initilize_A(self):\n",
    "        super()._initilize_A()\n",
    "        self._enforce_causal_structure()\n",
    "        \n",
    "    def _enforce_causal_structure(self):\n",
    "        self.A[0,1] = 0\n",
    "        # set ones\n",
    "        self.A[0,0] = 1\n",
    "        self.A[1,1] = 1\n",
    "        # set controls to 1\n",
    "        for j in range(2, self.J-1):\n",
    "            self.A[j,j+1] = 1\n",
    "            \n",
    "\n"
   ]
  },
  {
   "cell_type": "markdown",
   "metadata": {},
   "source": [
    "## simulation to test if we should enforce causal strucutre each time\n"
   ]
  },
  {
   "cell_type": "code",
   "execution_count": 41,
   "metadata": {},
   "outputs": [
    {
     "name": "stderr",
     "output_type": "stream",
     "text": [
      "  0%|          | 0/100 [00:02<?, ?it/s]\n"
     ]
    },
    {
     "ename": "KeyboardInterrupt",
     "evalue": "",
     "output_type": "error",
     "traceback": [
      "\u001b[0;31m---------------------------------------------------------------------------\u001b[0m",
      "\u001b[0;31mKeyboardInterrupt\u001b[0m                         Traceback (most recent call last)",
      "Cell \u001b[0;32mIn[41], line 14\u001b[0m\n\u001b[1;32m     12\u001b[0m data\u001b[38;5;241m.\u001b[39mgenerate_data(n\u001b[38;5;241m=\u001b[39mn, J\u001b[38;5;241m=\u001b[39mJ, I\u001b[38;5;241m=\u001b[39mI, random_state\u001b[38;5;241m=\u001b[39mi)\n\u001b[1;32m     13\u001b[0m CausalVarEM_est \u001b[38;5;241m=\u001b[39m CausalVarEM(update_sigma\u001b[38;5;241m=\u001b[39m\u001b[38;5;28;01mFalse\u001b[39;00m,   true_A\u001b[38;5;241m=\u001b[39m data\u001b[38;5;241m.\u001b[39mmixing_matrix_observed, tol\u001b[38;5;241m=\u001b[39m\u001b[38;5;241m1e-4\u001b[39m, max_iter\u001b[38;5;241m=\u001b[39m\u001b[38;5;241m200\u001b[39m, random_seed\u001b[38;5;241m=\u001b[39m\u001b[38;5;241m1\u001b[39m)\n\u001b[0;32m---> 14\u001b[0m \u001b[43mCausalVarEM_est\u001b[49m\u001b[38;5;241;43m.\u001b[39;49m\u001b[43mfit\u001b[49m\u001b[43m(\u001b[49m\u001b[43mdata\u001b[49m\u001b[38;5;241;43m.\u001b[39;49m\u001b[43mdata_observed\u001b[49m\u001b[43m,\u001b[49m\u001b[43m \u001b[49m\u001b[43mJ\u001b[49m\u001b[43m \u001b[49m\u001b[38;5;241;43m=\u001b[39;49m\u001b[43m \u001b[49m\u001b[43mJ\u001b[49m\u001b[43m,\u001b[49m\n\u001b[1;32m     15\u001b[0m \u001b[43m                  \u001b[49m\u001b[43mnoise_params\u001b[49m\u001b[38;5;241;43m=\u001b[39;49m\u001b[43m \u001b[49m\u001b[43m{\u001b[49m\u001b[38;5;124;43m\"\u001b[39;49m\u001b[38;5;124;43mmean\u001b[39;49m\u001b[38;5;124;43m\"\u001b[39;49m\u001b[43m \u001b[49m\u001b[43m:\u001b[49m\u001b[43m \u001b[49m\u001b[38;5;241;43m0\u001b[39;49m\u001b[43m,\u001b[49m\u001b[43m \u001b[49m\u001b[38;5;124;43m\"\u001b[39;49m\u001b[38;5;124;43mstd\u001b[39;49m\u001b[38;5;124;43m\"\u001b[39;49m\u001b[43m \u001b[49m\u001b[43m:\u001b[49m\u001b[43m \u001b[49m\u001b[38;5;241;43m1\u001b[39;49m\u001b[43m}\u001b[49m\u001b[43m,\u001b[49m\u001b[43m \u001b[49m\u001b[43mprogress_bar\u001b[49m\u001b[38;5;241;43m=\u001b[39;49m\u001b[43m \u001b[49m\u001b[38;5;28;43;01mFalse\u001b[39;49;00m\u001b[43m)\u001b[49m\n\u001b[1;32m     16\u001b[0m best_perm, score \u001b[38;5;241m=\u001b[39m f_score(data\u001b[38;5;241m.\u001b[39mmixing_matrix_observed, CausalVarEM_est\u001b[38;5;241m.\u001b[39mA)\n\u001b[1;32m     17\u001b[0m f_score_init\u001b[38;5;241m.\u001b[39mappend(score)\n",
      "File \u001b[0;32m~/Documents/coding/eth/semester_project/models/ICA_EM.py:114\u001b[0m, in \u001b[0;36mVarEM.fit\u001b[0;34m(self, X, J, noise_params, progress_bar)\u001b[0m\n\u001b[1;32m    112\u001b[0m     progress_bar_iter \u001b[38;5;241m=\u001b[39m \u001b[38;5;28mrange\u001b[39m(\u001b[38;5;28mself\u001b[39m\u001b[38;5;241m.\u001b[39mmax_iter)\n\u001b[1;32m    113\u001b[0m \u001b[38;5;28;01mfor\u001b[39;00m i \u001b[38;5;129;01min\u001b[39;00m progress_bar_iter:\n\u001b[0;32m--> 114\u001b[0m     diff \u001b[38;5;241m=\u001b[39m \u001b[38;5;28;43mself\u001b[39;49m\u001b[38;5;241;43m.\u001b[39;49m\u001b[43mupdate_A\u001b[49m\u001b[43m(\u001b[49m\u001b[43m)\u001b[49m\n\u001b[1;32m    115\u001b[0m     \u001b[38;5;28;01mif\u001b[39;00m diff \u001b[38;5;241m<\u001b[39m \u001b[38;5;28mself\u001b[39m\u001b[38;5;241m.\u001b[39mtol:\n\u001b[1;32m    116\u001b[0m         \u001b[38;5;28mprint\u001b[39m(\u001b[38;5;124mf\u001b[39m\u001b[38;5;124m\"\u001b[39m\u001b[38;5;124mConverged after \u001b[39m\u001b[38;5;132;01m{\u001b[39;00mi\u001b[38;5;132;01m}\u001b[39;00m\u001b[38;5;124m iterations with diff = \u001b[39m\u001b[38;5;132;01m{\u001b[39;00mdiff\u001b[38;5;132;01m:\u001b[39;00m\u001b[38;5;124m.4f\u001b[39m\u001b[38;5;132;01m}\u001b[39;00m\u001b[38;5;124m\"\u001b[39m)\n",
      "Cell \u001b[0;32mIn[38], line 18\u001b[0m, in \u001b[0;36mCausalVarEM.update_A\u001b[0;34m(self)\u001b[0m\n\u001b[1;32m     16\u001b[0m     temp1 \u001b[38;5;241m+\u001b[39m\u001b[38;5;241m=\u001b[39m x_outer \u001b[38;5;241m@\u001b[39m M_i\u001b[38;5;241m.\u001b[39mT \u001b[38;5;241m@\u001b[39m \u001b[38;5;28mself\u001b[39m\u001b[38;5;241m.\u001b[39mA \u001b[38;5;241m@\u001b[39m omega_i\n\u001b[1;32m     17\u001b[0m     temp2 \u001b[38;5;241m+\u001b[39m\u001b[38;5;241m=\u001b[39m omega_i \u001b[38;5;241m@\u001b[39m (np\u001b[38;5;241m.\u001b[39meye(\u001b[38;5;28mself\u001b[39m\u001b[38;5;241m.\u001b[39mJ) \u001b[38;5;241m-\u001b[39m \u001b[38;5;28mself\u001b[39m\u001b[38;5;241m.\u001b[39mA\u001b[38;5;241m.\u001b[39mT \u001b[38;5;241m@\u001b[39m M_i \u001b[38;5;241m@\u001b[39m (np\u001b[38;5;241m.\u001b[39meye(\u001b[38;5;28mself\u001b[39m\u001b[38;5;241m.\u001b[39mI) \u001b[38;5;241m-\u001b[39m x_outer \u001b[38;5;241m@\u001b[39m M_i\u001b[38;5;241m.\u001b[39mT) \u001b[38;5;241m@\u001b[39m \u001b[38;5;28mself\u001b[39m\u001b[38;5;241m.\u001b[39mA \u001b[38;5;241m@\u001b[39m omega_i)\n\u001b[0;32m---> 18\u001b[0m     \u001b[38;5;28;43mself\u001b[39;49m\u001b[38;5;241;43m.\u001b[39;49m\u001b[43m_update_xi\u001b[49m\u001b[43m(\u001b[49m\u001b[43mi\u001b[49m\u001b[43m,\u001b[49m\u001b[43m \u001b[49m\u001b[43mM_i\u001b[49m\u001b[43m,\u001b[49m\u001b[43m \u001b[49m\u001b[43momega_i\u001b[49m\u001b[43m,\u001b[49m\u001b[43m \u001b[49m\u001b[43mx_outer\u001b[49m\u001b[43m)\u001b[49m\n\u001b[1;32m     19\u001b[0m A_new \u001b[38;5;241m=\u001b[39m temp1 \u001b[38;5;241m@\u001b[39m np\u001b[38;5;241m.\u001b[39mlinalg\u001b[38;5;241m.\u001b[39minv(temp2)\n\u001b[1;32m     20\u001b[0m \u001b[38;5;28;01mif\u001b[39;00m \u001b[38;5;28mself\u001b[39m\u001b[38;5;241m.\u001b[39mupdate_sigma:\n",
      "File \u001b[0;32m~/Documents/coding/eth/semester_project/models/ICA_EM.py:173\u001b[0m, in \u001b[0;36mVarEM._update_xi\u001b[0;34m(self, i, M_i, omega_i, x_outer)\u001b[0m\n\u001b[1;32m    172\u001b[0m \u001b[38;5;28;01mdef\u001b[39;00m \u001b[38;5;21m_update_xi\u001b[39m(\u001b[38;5;28mself\u001b[39m, i, M_i, omega_i, x_outer):\n\u001b[0;32m--> 173\u001b[0m     \u001b[38;5;28mself\u001b[39m\u001b[38;5;241m.\u001b[39mxi[i] \u001b[38;5;241m=\u001b[39m \u001b[43mnp\u001b[49m\u001b[38;5;241;43m.\u001b[39;49m\u001b[43mdiag\u001b[49m\u001b[43m(\u001b[49m\u001b[43momega_i\u001b[49m\u001b[43m \u001b[49m\u001b[38;5;241;43m@\u001b[39;49m\u001b[43m \u001b[49m\u001b[43m(\u001b[49m\u001b[43mnp\u001b[49m\u001b[38;5;241;43m.\u001b[39;49m\u001b[43meye\u001b[49m\u001b[43m(\u001b[49m\u001b[38;5;28;43mself\u001b[39;49m\u001b[38;5;241;43m.\u001b[39;49m\u001b[43mJ\u001b[49m\u001b[43m)\u001b[49m\u001b[43m \u001b[49m\u001b[38;5;241;43m-\u001b[39;49m\u001b[43m \u001b[49m\u001b[38;5;28;43mself\u001b[39;49m\u001b[38;5;241;43m.\u001b[39;49m\u001b[43mA\u001b[49m\u001b[38;5;241;43m.\u001b[39;49m\u001b[43mT\u001b[49m\u001b[43m \u001b[49m\u001b[38;5;241;43m@\u001b[39;49m\u001b[43m \u001b[49m\u001b[43mM_i\u001b[49m\u001b[43m \u001b[49m\u001b[38;5;241;43m@\u001b[39;49m\u001b[43m \u001b[49m\u001b[43m(\u001b[49m\u001b[43mnp\u001b[49m\u001b[38;5;241;43m.\u001b[39;49m\u001b[43meye\u001b[49m\u001b[43m(\u001b[49m\u001b[38;5;28;43mself\u001b[39;49m\u001b[38;5;241;43m.\u001b[39;49m\u001b[43mI\u001b[49m\u001b[43m)\u001b[49m\u001b[43m \u001b[49m\u001b[38;5;241;43m-\u001b[39;49m\u001b[43m \u001b[49m\u001b[43mx_outer\u001b[49m\u001b[43m \u001b[49m\u001b[38;5;241;43m@\u001b[39;49m\u001b[43m \u001b[49m\u001b[43mM_i\u001b[49m\u001b[38;5;241;43m.\u001b[39;49m\u001b[43mT\u001b[49m\u001b[43m)\u001b[49m\u001b[43m \u001b[49m\u001b[38;5;241;43m@\u001b[39;49m\u001b[43m \u001b[49m\u001b[38;5;28;43mself\u001b[39;49m\u001b[38;5;241;43m.\u001b[39;49m\u001b[43mA\u001b[49m\u001b[43m \u001b[49m\u001b[38;5;241;43m@\u001b[39;49m\u001b[43m \u001b[49m\u001b[43momega_i\u001b[49m\u001b[43m)\u001b[49m\u001b[43m)\u001b[49m\n",
      "File \u001b[0;32m~/micromamba/envs/sem_pj/lib/python3.12/site-packages/numpy/lib/_twodim_base_impl.py:315\u001b[0m, in \u001b[0;36mdiag\u001b[0;34m(v, k)\u001b[0m\n\u001b[1;32m    313\u001b[0m     \u001b[38;5;28;01mreturn\u001b[39;00m res\n\u001b[1;32m    314\u001b[0m \u001b[38;5;28;01melif\u001b[39;00m \u001b[38;5;28mlen\u001b[39m(s) \u001b[38;5;241m==\u001b[39m \u001b[38;5;241m2\u001b[39m:\n\u001b[0;32m--> 315\u001b[0m     \u001b[38;5;28;01mreturn\u001b[39;00m \u001b[43mdiagonal\u001b[49m\u001b[43m(\u001b[49m\u001b[43mv\u001b[49m\u001b[43m,\u001b[49m\u001b[43m \u001b[49m\u001b[43mk\u001b[49m\u001b[43m)\u001b[49m\n\u001b[1;32m    316\u001b[0m \u001b[38;5;28;01melse\u001b[39;00m:\n\u001b[1;32m    317\u001b[0m     \u001b[38;5;28;01mraise\u001b[39;00m \u001b[38;5;167;01mValueError\u001b[39;00m(\u001b[38;5;124m\"\u001b[39m\u001b[38;5;124mInput must be 1- or 2-d.\u001b[39m\u001b[38;5;124m\"\u001b[39m)\n",
      "File \u001b[0;32m~/micromamba/envs/sem_pj/lib/python3.12/site-packages/numpy/_core/fromnumeric.py:1832\u001b[0m, in \u001b[0;36mdiagonal\u001b[0;34m(a, offset, axis1, axis2)\u001b[0m\n\u001b[1;32m   1830\u001b[0m     \u001b[38;5;28;01mreturn\u001b[39;00m asarray(a)\u001b[38;5;241m.\u001b[39mdiagonal(offset\u001b[38;5;241m=\u001b[39moffset, axis1\u001b[38;5;241m=\u001b[39maxis1, axis2\u001b[38;5;241m=\u001b[39maxis2)\n\u001b[1;32m   1831\u001b[0m \u001b[38;5;28;01melse\u001b[39;00m:\n\u001b[0;32m-> 1832\u001b[0m     \u001b[38;5;28;01mreturn\u001b[39;00m \u001b[43masanyarray\u001b[49m\u001b[43m(\u001b[49m\u001b[43ma\u001b[49m\u001b[43m)\u001b[49m\u001b[38;5;241;43m.\u001b[39;49m\u001b[43mdiagonal\u001b[49m\u001b[43m(\u001b[49m\u001b[43moffset\u001b[49m\u001b[38;5;241;43m=\u001b[39;49m\u001b[43moffset\u001b[49m\u001b[43m,\u001b[49m\u001b[43m \u001b[49m\u001b[43maxis1\u001b[49m\u001b[38;5;241;43m=\u001b[39;49m\u001b[43maxis1\u001b[49m\u001b[43m,\u001b[49m\u001b[43m \u001b[49m\u001b[43maxis2\u001b[49m\u001b[38;5;241;43m=\u001b[39;49m\u001b[43maxis2\u001b[49m\u001b[43m)\u001b[49m\n",
      "\u001b[0;31mKeyboardInterrupt\u001b[0m: "
     ]
    }
   ],
   "source": [
    "n = 10000\n",
    "J = 6\n",
    "I = 5\n",
    "f_score_init = []\n",
    "f_score_each = []\n",
    "mean_squared_error_init = []\n",
    "mean_squared_error_each = []\n",
    "ll_score_init = []\n",
    "ll_score_each = []\n",
    "data = dgp(prior={\"loc\" : 0, \"scale\" : 1}, noise_dict=  {\"loc\" : 0, \"scale\" : 1})\n",
    "for i in tqdm.tqdm(range(100)):\n",
    "    data.generate_data(n=n, J=J, I=I, random_state=i)\n",
    "    CausalVarEM_est = CausalVarEM(update_sigma=False,   true_A= data.mixing_matrix_observed, tol=1e-4, max_iter=200, random_seed=1)\n",
    "    CausalVarEM_est.fit(data.data_observed, J = J,\n",
    "                      noise_params= {\"mean\" : 0, \"std\" : 1}, progress_bar= False)\n",
    "    best_perm, score = f_score(data.mixing_matrix_observed, CausalVarEM_est.A)\n",
    "    f_score_init.append(score)\n",
    "    singals_estimation_VAR = CausalVarEM_est.Signals[:,best_perm]\n",
    "    mean_squared_error_init.append(mean_squared_error(data.signals, singals_estimation_VAR))\n",
    "    ll_score_init.append(likelihood_score(data.signals, singals_estimation_VAR, normalize=True))\n",
    "\n",
    "    CausalVarEM_est = CausalVarEM(update_sigma=False,   true_A= data.mixing_matrix_observed, tol=1e-4, max_iter=200, random_seed=1, mode = \"each\")\n",
    "    CausalVarEM_est.fit(data.data_observed, J = J,\n",
    "                      noise_params= {\"mean\" : 0, \"std\" : 1}, progress_bar= False)\n",
    "    best_perm, score = f_score(data.mixing_matrix_observed, CausalVarEM_est.A)\n",
    "    f_score_each.append(score)\n",
    "    singals_estimation_VAR = CausalVarEM_est.Signals[:,best_perm]\n",
    "    mean_squared_error_each.append(mean_squared_error(data.signals, singals_estimation_VAR))\n",
    "    ll_score_each.append(likelihood_score(data.signals, singals_estimation_VAR, normalize=True))\n",
    "\n",
    "df = pd.DataFrame({\"f_score_init\" : f_score_init, \n",
    "                   \"f_score_each\" : f_score_each, \n",
    "                   \"mean_squared_error_init\" : mean_squared_error_init, \n",
    "                   \"mean_squared_error_each\" : mean_squared_error_each,\n",
    "                     \"ll_score_init\" : ll_score_init, \n",
    "                     \"ll_score_each\" : ll_score_each})\n",
    "df.to_csv(\"results/causal_var_em.csv\")\n"
   ]
  }
 ],
 "metadata": {
  "kernelspec": {
   "display_name": "Python 3",
   "language": "python",
   "name": "python3"
  },
  "language_info": {
   "codemirror_mode": {
    "name": "ipython",
    "version": 3
   },
   "file_extension": ".py",
   "mimetype": "text/x-python",
   "name": "python",
   "nbconvert_exporter": "python",
   "pygments_lexer": "ipython3",
   "version": "3.12.7"
  }
 },
 "nbformat": 4,
 "nbformat_minor": 2
}
